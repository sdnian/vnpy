{
 "cells": [
  {
   "cell_type": "markdown",
   "metadata": {},
   "source": [
    "# test\n",
    "\n",
    "+ 123\n",
    "+ 234\n",
    "\n",
    "$e^{i\\pi} + 1 = 0$\n"
   ]
  },
  {
   "cell_type": "code",
   "execution_count": 1,
   "metadata": {},
   "outputs": [
    {
     "name": "stdout",
     "output_type": "stream",
     "text": [
      "['systemd-private-69e4fb71be754b1aa4bba3ca3a9aa18c-rtkit-daemon.service-4wPehz', '.X0-lock', 'gnome-software-EVL03Y', 'thunderbird_steve', '.ICE-unix', '.com.vivaldi.Vivaldi.kEaZfz', 'config-err-9QjGkE', '.vbox-steve-ipc', 'gcin-steve', '.Test-unix', 'Top Sites', 'Untitled.ipynb', 'systemd-private-69e4fb71be754b1aa4bba3ca3a9aa18c-systemd-resolved.service-6hxhLe', 'ssh-Q2TyPIKzINvm', 'systemd-private-69e4fb71be754b1aa4bba3ca3a9aa18c-fwupd.service-UAnh1o', '.XIM-unix', 'Top Sites-journal', '.font-unix', 'systemd-private-69e4fb71be754b1aa4bba3ca3a9aa18c-systemd-timesyncd.service-xvW4Wf', 'unity_support_test.0', '.X11-unix', 'systemd-private-69e4fb71be754b1aa4bba3ca3a9aa18c-colord.service-KdDf8Y', '.ipynb_checkpoints']\n"
     ]
    }
   ],
   "source": [
    "import os\n",
    "print(os.listdir('.'))"
   ]
  },
  {
   "cell_type": "markdown",
   "metadata": {},
   "source": [
    "# test"
   ]
  },
  {
   "cell_type": "code",
   "execution_count": null,
   "metadata": {
    "collapsed": true
   },
   "outputs": [],
   "source": [
    "import sys"
   ]
  }
 ],
 "metadata": {
  "kernelspec": {
   "display_name": "Python 3",
   "language": "python",
   "name": "python3"
  },
  "language_info": {
   "codemirror_mode": {
    "name": "ipython",
    "version": 3
   },
   "file_extension": ".py",
   "mimetype": "text/x-python",
   "name": "python",
   "nbconvert_exporter": "python",
   "pygments_lexer": "ipython3",
   "version": "3.5.3"
  }
 },
 "nbformat": 4,
 "nbformat_minor": 2
}
